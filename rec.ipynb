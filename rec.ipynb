{
 "cells": [
  {
   "cell_type": "code",
   "execution_count": 1,
   "metadata": {},
   "outputs": [
    {
     "ename": "error",
     "evalue": "OpenCV(4.6.0) D:\\a\\opencv-python\\opencv-python\\opencv\\modules\\imgproc\\src\\color.cpp:182: error: (-215:Assertion failed) !_src.empty() in function 'cv::cvtColor'\n",
     "output_type": "error",
     "traceback": [
      "\u001b[1;31m---------------------------------------------------------------------------\u001b[0m",
      "\u001b[1;31merror\u001b[0m                                     Traceback (most recent call last)",
      "\u001b[1;32mc:\\Users\\giuli\\OneDrive\\Documentos\\FIAP\\iot\\reconhecimento\\rec.ipynb Cell 1\u001b[0m in \u001b[0;36m<cell line: 11>\u001b[1;34m()\u001b[0m\n\u001b[0;32m      <a href='vscode-notebook-cell:/c%3A/Users/giuli/OneDrive/Documentos/FIAP/iot/reconhecimento/rec.ipynb#W0sZmlsZQ%3D%3D?line=7'>8</a>\u001b[0m img \u001b[39m=\u001b[39m cv2\u001b[39m.\u001b[39mimread(\u001b[39m'\u001b[39m\u001b[39mcirculo.png\u001b[39m\u001b[39m'\u001b[39m)\n\u001b[0;32m     <a href='vscode-notebook-cell:/c%3A/Users/giuli/OneDrive/Documentos/FIAP/iot/reconhecimento/rec.ipynb#W0sZmlsZQ%3D%3D?line=9'>10</a>\u001b[0m \u001b[39m# por padrão a imagem é lida em bgr, mas quero ver ela em rgb, por isso eu converto a imagem\u001b[39;00m\n\u001b[1;32m---> <a href='vscode-notebook-cell:/c%3A/Users/giuli/OneDrive/Documentos/FIAP/iot/reconhecimento/rec.ipynb#W0sZmlsZQ%3D%3D?line=10'>11</a>\u001b[0m img_rgb \u001b[39m=\u001b[39m cv2\u001b[39m.\u001b[39;49mcvtColor(img, cv2\u001b[39m.\u001b[39;49mCOLOR_BGR2RGB)\n\u001b[0;32m     <a href='vscode-notebook-cell:/c%3A/Users/giuli/OneDrive/Documentos/FIAP/iot/reconhecimento/rec.ipynb#W0sZmlsZQ%3D%3D?line=12'>13</a>\u001b[0m \u001b[39m## quero fazer um filtro na imagem para pegar apenas o que for vermelho, pq quero isso.\u001b[39;00m\n\u001b[0;32m     <a href='vscode-notebook-cell:/c%3A/Users/giuli/OneDrive/Documentos/FIAP/iot/reconhecimento/rec.ipynb#W0sZmlsZQ%3D%3D?line=13'>14</a>\u001b[0m \u001b[39m### primeira coisa converte para hsv\u001b[39;00m\n\u001b[0;32m     <a href='vscode-notebook-cell:/c%3A/Users/giuli/OneDrive/Documentos/FIAP/iot/reconhecimento/rec.ipynb#W0sZmlsZQ%3D%3D?line=14'>15</a>\u001b[0m img_hsv \u001b[39m=\u001b[39m cv2\u001b[39m.\u001b[39mcvtColor(img, cv2\u001b[39m.\u001b[39mCOLOR_BGR2HSV)\n",
      "\u001b[1;31merror\u001b[0m: OpenCV(4.6.0) D:\\a\\opencv-python\\opencv-python\\opencv\\modules\\imgproc\\src\\color.cpp:182: error: (-215:Assertion failed) !_src.empty() in function 'cv::cvtColor'\n"
     ]
    }
   ],
   "source": [
    "#Implemente seu código\n",
    "\n",
    "%matplotlib inline\n",
    "import cv2\n",
    "from matplotlib import pyplot as plt\n",
    "import numpy as np\n",
    "\n",
    "img = cv2.imread('circulo.png')\n",
    "\n",
    "# por padrão a imagem é lida em bgr, mas quero ver ela em rgb, por isso eu converto a imagem\n",
    "img_rgb = cv2.cvtColor(img, cv2.COLOR_BGR2RGB)\n",
    "\n",
    "## quero fazer um filtro na imagem para pegar apenas o que for vermelho, pq quero isso.\n",
    "### primeira coisa converte para hsv\n",
    "img_hsv = cv2.cvtColor(img, cv2.COLOR_BGR2HSV)\n",
    "\n",
    "image_lower_blue = np.array([50, 50, 50])  \n",
    "image_upper_blue = np.array([90, 255, 249])\n",
    "\n",
    "image_lower_reed = np.array([0, 55, 50])  \n",
    "image_upper_reed = np.array([16, 240, 231])\n",
    "\n",
    "mask1 = cv2.inRange(img_hsv, image_lower_blue, image_upper_blue)\n",
    "mask2 = cv2.inRange(img_hsv, image_lower_reed, image_upper_reed)\n",
    "\n",
    "mask = mask1 + mask2\n",
    "\n",
    "\n",
    "res = cv2.bitwise_and(img_hsv,img_hsv, mask= mask)\n",
    "\n",
    "\n",
    "contornos, _ = cv2.findContours(mask, cv2.RETR_TREE, cv2.CHAIN_APPROX_SIMPLE) \n",
    "\n",
    "mask_rgb = cv2.cvtColor(mask, cv2.COLOR_GRAY2RGB) \n",
    "contornos_img = mask_rgb.copy() # Cópia da máscara para ser desenhada \"por cima\"\n",
    "\n",
    "cv2.drawContours(contornos_img, contornos, -1, [255, 0, 0], 5);\n",
    "\n",
    "\n",
    "size = 20\n",
    "color = (128,128,0)\n",
    "\n",
    "for cnt in contornos:\n",
    "    M = cv2.moments(cnt)\n",
    "    \n",
    "    cx = int(M['m10']/M['m00'])\n",
    "    cy = int(M['m01']/M['m00'])\n",
    "    area = cv2.contourArea(cnt)\n",
    "    if(area >= 22854.0):\n",
    "\n",
    "      cv2.line(contornos_img,(cx - size,cy),(cx + size,cy),color,5)\n",
    "      cv2.line(contornos_img,(cx,cy - size),(cx, cy + size),color,5)\n",
    "\n",
    "      print(\"centro de massa na possição: x:\",cx, \" y:\", cy)\n",
    "      print(area)\n",
    "\n",
    "fig = plt.figure(figsize=(20,20))\n",
    "#plt.subplot(1, 3, 1)\n",
    "#plt.imshow(img_rgb)\n",
    "#plt.subplot(1, 3, 2)\n",
    "#plt.imshow(mask_hsv, cmap=\"Greys_r\", vmin=0, vmax=255)\n",
    "#plt.subplot(1, 3, 3)\n",
    "plt.imshow(contornos_img)\n",
    "plt.show()\n",
    "\n"
   ]
  }
 ],
 "metadata": {
  "kernelspec": {
   "display_name": "Python 3.10.4 64-bit",
   "language": "python",
   "name": "python3"
  },
  "language_info": {
   "codemirror_mode": {
    "name": "ipython",
    "version": 3
   },
   "file_extension": ".py",
   "mimetype": "text/x-python",
   "name": "python",
   "nbconvert_exporter": "python",
   "pygments_lexer": "ipython3",
   "version": "3.10.4"
  },
  "orig_nbformat": 4,
  "vscode": {
   "interpreter": {
    "hash": "d1254c3cc9e57f52b804b6ab65bbeea341813290580c92b29841c38c0e3519f7"
   }
  }
 },
 "nbformat": 4,
 "nbformat_minor": 2
}
